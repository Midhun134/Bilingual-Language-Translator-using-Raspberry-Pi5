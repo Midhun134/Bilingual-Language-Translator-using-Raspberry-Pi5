{
 "cells": [
  {
   "cell_type": "code",
   "execution_count": 2,
   "metadata": {},
   "outputs": [
    {
     "name": "stdout",
     "output_type": "stream",
     "text": [
      "Dataset successfully split into train, validation set\n"
     ]
    }
   ],
   "source": [
    "import random\n",
    "#this is done to make the dataset format into farseq which is binary because helsinky is trained on farseq format\n",
    "def read_file(filepath):\n",
    "    with open(filepath, 'r', encoding='utf-8') as file:\n",
    "        return file.readlines()\n",
    "\n",
    "def write_file(filepath, lines):\n",
    "    with open(filepath, 'w', encoding='utf-8') as file:\n",
    "        for line in lines:\n",
    "            file.write(line)\n",
    "\n",
    "def split_dataset(en_lines, ml_lines, train_ratio=0.8, valid_ratio=0.2):\n",
    "    assert len(en_lines) == len(ml_lines), \"The number of lines in the two files should be the same\"\n",
    "\n",
    "    data = list(zip(en_lines, ml_lines))\n",
    "    random.shuffle(data)\n",
    "\n",
    "    train_size = int(train_ratio * len(data))\n",
    "    valid_size = int(valid_ratio * len(data))\n",
    "\n",
    "    train_data = data[:train_size]\n",
    "    valid_data = data[train_size:]\n",
    "\n",
    "\n",
    "    return train_data, valid_data\n",
    "\n",
    "# File paths\n",
    "english_file = 'ELRC_2922.en-ml.en'\n",
    "malayalam_file = 'ELRC_2922.en-ml.ml'\n",
    "\n",
    "# Read the files\n",
    "en_lines = read_file(english_file)\n",
    "ml_lines = read_file(malayalam_file)\n",
    "\n",
    "# Split the dataset\n",
    "train_data, valid_data = split_dataset(en_lines, ml_lines)\n",
    "\n",
    "# Write the splits to files\n",
    "write_file('train.en', [line[0] for line in train_data])\n",
    "write_file('train.ml', [line[1] for line in train_data])\n",
    "write_file('valid.en', [line[0] for line in valid_data])\n",
    "write_file('valid.ml', [line[1] for line in valid_data])\n",
    "\n",
    "\n",
    "print(\"Dataset successfully split into train, validation set\")"
   ]
  },
  {
   "cell_type": "markdown",
   "metadata": {},
   "source": [
    "## Load the Dataset"
   ]
  },
  {
   "cell_type": "code",
   "execution_count": 3,
   "metadata": {},
   "outputs": [],
   "source": [
    "def load_data(source_file, target_file):\n",
    "    with open(source_file, 'r', encoding='utf-8') as src_f, open(target_file, 'r', encoding='utf-8') as tgt_f:\n",
    "        sources = src_f.readlines()\n",
    "        targets = tgt_f.readlines()\n",
    "    \n",
    "    assert len(sources) == len(targets), \"Source and target files must have the same number of lines\"\n",
    "    return sources, targets\n",
    "    \n",
    "\n",
    "\n",
    "train_dataset = load_data('train.en', 'train.ml')\n",
    "eval_dataset = load_data('valid.en', 'valid.ml')"
   ]
  },
  {
   "cell_type": "code",
   "execution_count": 10,
   "metadata": {},
   "outputs": [
    {
     "data": {
      "text/plain": [
       "2"
      ]
     },
     "execution_count": 10,
     "metadata": {},
     "output_type": "execute_result"
    }
   ],
   "source": [
    "len(train_dataset)\n",
    "#len(eval_dataset)"
   ]
  },
  {
   "cell_type": "markdown",
   "metadata": {},
   "source": [
    "## Tokenize the data"
   ]
  },
  {
   "cell_type": "code",
   "execution_count": 4,
   "metadata": {},
   "outputs": [
    {
     "name": "stderr",
     "output_type": "stream",
     "text": [
      "c:\\Users\\midhu\\anaconda3\\envs\\pytorch_env\\lib\\site-packages\\transformers\\tokenization_utils_base.py:1601: FutureWarning: `clean_up_tokenization_spaces` was not set. It will be set to `True` by default. This behavior will be depracted in transformers v4.45, and will be then set to `False` by default. For more details check this issue: https://github.com/huggingface/transformers/issues/31884\n",
      "  warnings.warn(\n"
     ]
    },
    {
     "data": {
      "application/vnd.jupyter.widget-view+json": {
       "model_id": "03535ee2a5be4b8384fb400bd2c35bf4",
       "version_major": 2,
       "version_minor": 0
      },
      "text/plain": [
       "Map:   0%|          | 0/360 [00:00<?, ? examples/s]"
      ]
     },
     "metadata": {},
     "output_type": "display_data"
    },
    {
     "data": {
      "application/vnd.jupyter.widget-view+json": {
       "model_id": "b646137b8ad445759e547559944f1acd",
       "version_major": 2,
       "version_minor": 0
      },
      "text/plain": [
       "Map:   0%|          | 0/91 [00:00<?, ? examples/s]"
      ]
     },
     "metadata": {},
     "output_type": "display_data"
    }
   ],
   "source": [
    "from transformers import AutoTokenizer\n",
    "from datasets import Dataset\n",
    "model_repo = 'Helsinki-NLP/opus-mt-en-ml'\n",
    "tokenizer = AutoTokenizer.from_pretrained(model_repo)\n",
    "\n",
    "def tokenize_function(examples):\n",
    "    source = tokenizer(examples['source'], padding='max_length', truncation=True, max_length=128)\n",
    "    target = tokenizer(examples['target'], padding='max_length', truncation=True, max_length=128)\n",
    "    \n",
    "    # Rename target inputs to 'labels' (which is expected by most seq-to-seq models)\n",
    "    source['labels'] = target['input_ids'] #Input to the Model (input_ids): The model takes the tokenized source text as input to generate predictions.\n",
    "    #Correct Output (labels): The model is also provided with the tokenized target text as the correct answer. During training, it compares its predictions against these labels to learn how to improve.\n",
    "    \n",
    "    return source\n",
    "# Convert tuples of lists to datasets\n",
    "sources, targets = train_dataset[0], train_dataset[1]\n",
    "sources_eval, targets_eval = eval_dataset[0], eval_dataset[1]\n",
    "train_dataset = Dataset.from_dict({'source': sources, 'target': targets}) # we r converting into datasets format because to use the map function below\n",
    "eval_dataset = Dataset.from_dict({'source': sources_eval, 'target': targets_eval})\n",
    "\n",
    "# Apply the tokenizer to the datasets\n",
    "train_dataset = train_dataset.map(tokenize_function, batched=True)\n",
    "eval_dataset = eval_dataset.map(tokenize_function, batched=True)"
   ]
  },
  {
   "cell_type": "markdown",
   "metadata": {},
   "source": [
    "## Prepare the Dataset for the Trainer"
   ]
  },
  {
   "cell_type": "code",
   "execution_count": 5,
   "metadata": {},
   "outputs": [],
   "source": [
    "# Remove the text columns to avoid errors during training\n",
    "train_dataset = train_dataset.remove_columns(['source', 'target'])\n",
    "eval_dataset = eval_dataset.remove_columns(['source', 'target'])\n",
    "#removing columns is a form of preprocessing before the dataset is tokenized which means convert the text into numerical representations(input_ids, attentionmasks and labels)\n",
    "\n",
    "# Set the format to PyTorch tensors\n",
    "train_dataset.set_format('torch')\n",
    "eval_dataset.set_format('torch')"
   ]
  },
  {
   "cell_type": "markdown",
   "metadata": {},
   "source": [
    "## Pass the Datasets to the Trainer"
   ]
  },
  {
   "cell_type": "code",
   "execution_count": 6,
   "metadata": {},
   "outputs": [
    {
     "name": "stderr",
     "output_type": "stream",
     "text": [
      "\u001b[34m\u001b[1mwandb\u001b[0m: \u001b[33mWARNING\u001b[0m The `run_name` is currently set to the same value as `TrainingArguments.output_dir`. If this was not intended, please specify a different run name by setting the `TrainingArguments.run_name` parameter.\n",
      "Failed to detect the name of this notebook, you can set it manually with the WANDB_NOTEBOOK_NAME environment variable to enable code saving.\n",
      "wandb: Logging into wandb.ai. (Learn how to deploy a W&B server locally: https://wandb.me/wandb-server)\n",
      "wandb: You can find your API key in your browser here: https://wandb.ai/authorize\n",
      "wandb: Paste an API key from your profile and hit enter, or press ctrl+c to quit:wandb: Paste an API key from your profile and hit enter, or press ctrl+c to quit:wandb: Paste an API key from your profile and hit enter, or press ctrl+c to quit:wandb: Paste an API key from your profile and hit enter, or press ctrl+c to quit:wandb: Paste an API key from your profile and hit enter, or press ctrl+c to quit:wandb: Paste an API key from your profile and hit enter, or press ctrl+c to quit:wandb: Paste an API key from your profile and hit enter, or press ctrl+c to quit:wandb: Paste an API key from your profile and hit enter, or press ctrl+c to quit:"
     ]
    }
   ],
   "source": [
    "from transformers import Trainer, TrainingArguments, AutoModelForSeq2SeqLM\n",
    "\n",
    "\n",
    "training_args = TrainingArguments(\n",
    "    output_dir='./results',        \n",
    "    num_train_epochs=3,\n",
    "    fp16 = True, #by default training arguments using fp32 which makes the model size large so changing it into fp16            \n",
    "    per_device_train_batch_size=8,  \n",
    "    per_device_eval_batch_size=8,   \n",
    "    warmup_steps=500,               \n",
    "    weight_decay=0.01,              \n",
    "    logging_dir='./logs',           \n",
    "    logging_steps=10,\n",
    "    evaluation_strategy=\"epoch\",\n",
    "    save_strategy=\"epoch\",\n",
    "    load_best_model_at_end=True,  # Load the best model found at the end of training\n",
    "    metric_for_best_model=\"eval_loss\",  # Metric to use to select the best model\n",
    "    greater_is_better=False,      # Set to True if a higher metric value is better, False for lower (e.g., for loss)\n",
    ")\n",
    "\n",
    "trainer = Trainer(\n",
    "    model= AutoModelForSeq2SeqLM.from_pretrained(model_repo),                         \n",
    "    args=training_args,                  \n",
    "    train_dataset=train_dataset,         \n",
    "    eval_dataset=eval_dataset             \n",
    ")\n",
    "\n",
    "trainer.train()\n",
    "# Save the tokenizer manually after training\n",
    "tokenizer.save_pretrained('./results')"
   ]
  },
  {
   "cell_type": "code",
   "execution_count": 1,
   "metadata": {},
   "outputs": [
    {
     "name": "stdout",
     "output_type": "stream",
     "text": [
      "4.44.0\n",
      "2.3.1\n",
      "0.31.0\n"
     ]
    }
   ],
   "source": [
    "import transformers\n",
    "import torch\n",
    "import accelerate\n",
    "\n",
    "print(transformers.__version__)\n",
    "print(torch.__version__)\n",
    "print(accelerate.__version__)"
   ]
  },
  {
   "cell_type": "code",
   "execution_count": 1,
   "metadata": {},
   "outputs": [
    {
     "name": "stdout",
     "output_type": "stream",
     "text": [
      "Pillow version: 10.4.0\n",
      "c:\\Users\\midhu\\anaconda3\\envs\\pytorch_env\\python.exe\n"
     ]
    }
   ],
   "source": [
    "import PIL\n",
    "print(\"Pillow version:\", PIL.__version__)\n",
    "import sys\n",
    "print(sys.executable)"
   ]
  },
  {
   "cell_type": "code",
   "execution_count": 12,
   "metadata": {},
   "outputs": [
    {
     "name": "stdout",
     "output_type": "stream",
     "text": [
      "Requirement already satisfied: pillow in c:\\users\\midhu\\anaconda3\\envs\\pytorch_env\\lib\\site-packages (10.4.0)\n",
      "Note: you may need to restart the kernel to use updated packages.\n"
     ]
    },
    {
     "name": "stderr",
     "output_type": "stream",
     "text": [
      "DEPRECATION: omegaconf 2.0.6 has a non-standard dependency specifier PyYAML>=5.1.*. pip 24.1 will enforce this behaviour change. A possible replacement is to upgrade to a newer version of omegaconf or contact the author to suggest that they release a version with a conforming dependency specifiers. Discussion can be found at https://github.com/pypa/pip/issues/12063\n"
     ]
    }
   ],
   "source": [
    "%pip install --upgrade pillow"
   ]
  },
  {
   "cell_type": "code",
   "execution_count": null,
   "metadata": {},
   "outputs": [],
   "source": [
    "# Access the logs\n",
    "logs = trainer.state.log_history\n",
    "print(logs)"
   ]
  },
  {
   "cell_type": "markdown",
   "metadata": {},
   "source": [
    "### Extract and Separate the Training and Evaluation Loss"
   ]
  },
  {
   "cell_type": "code",
   "execution_count": null,
   "metadata": {},
   "outputs": [],
   "source": [
    "import matplotlib.pyplot as plt\n",
    "\n",
    "# Extract training and evaluation losses\n",
    "training_loss = []\n",
    "eval_loss = []\n",
    "steps = []\n",
    "\n",
    "for log in logs:\n",
    "    if 'loss' in log:\n",
    "        training_loss.append(log['loss'])\n",
    "        steps.append(log['step'])  # This captures the step at which the log was recorded\n",
    "    if 'eval_loss' in log:\n",
    "        eval_loss.append(log['eval_loss'])\n",
    "\n",
    "# Check if losses have been correctly extracted\n",
    "print(f'Training loss: {training_loss}')\n",
    "print(f'Evaluation loss: {eval_loss}')"
   ]
  },
  {
   "cell_type": "markdown",
   "metadata": {},
   "source": [
    "Plot the Losses"
   ]
  },
  {
   "cell_type": "code",
   "execution_count": null,
   "metadata": {},
   "outputs": [],
   "source": [
    "# Plot Training Loss\n",
    "plt.figure(figsize=(10, 6))\n",
    "plt.plot(steps, training_loss, label=\"Training Loss\")\n",
    "\n",
    "# Plot Evaluation Loss - since there are only 3 points, plot them against the appropriate step\n",
    "# Assuming eval_loss corresponds to the end of each epoch (steps 50, 100, 130 for example)\n",
    "eval_steps = [50, 100, 130]\n",
    "plt.plot(eval_steps, eval_loss, label=\"Evaluation Loss\", linestyle='--', marker='o')\n",
    "\n",
    "plt.xlabel(\"Steps\")\n",
    "plt.ylabel(\"Loss\")\n",
    "plt.title(\"Training and Evaluation Loss Over Time\")\n",
    "plt.legend()\n",
    "plt.grid()\n",
    "plt.show()"
   ]
  },
  {
   "cell_type": "code",
   "execution_count": null,
   "metadata": {},
   "outputs": [],
   "source": [
    "#to save a file or folder in zip or any file type use shutil\n",
    "# import shutil\n",
    "# shutil.make_archive(\"results\", \"zip\", \"/content/results\")"
   ]
  },
  {
   "cell_type": "code",
   "execution_count": null,
   "metadata": {},
   "outputs": [],
   "source": [
    "from transformers import MarianMTModel, MarianConfig\n",
    "\n",
    "# Load pretrained model\n",
    "pretrained_model = MarianMTModel.from_pretrained(model_repo)\n",
    "\n",
    "# Load fine-tuned model (or initialize from checkpoint)\n",
    "finetuned_model = MarianMTModel.from_pretrained(\"/content/results/checkpoint-90\")\n",
    "\n",
    "# Inspect positional embeddings\n",
    "print(finetuned_model.model.encoder.embed_positions.weight)\n",
    "print(finetuned_model.model.decoder.embed_positions.weight)\n",
    "\n",
    "# If needed, reinitialize or copy embeddings\n",
    "finetuned_model.model.encoder.embed_positions.weight = pretrained_model.model.encoder.embed_positions.weight\n",
    "finetuned_model.model.decoder.embed_positions.weight = pretrained_model.model.decoder.embed_positions.weight"
   ]
  },
  {
   "cell_type": "code",
   "execution_count": null,
   "metadata": {},
   "outputs": [],
   "source": [
    "import shutil\n",
    "import os\n",
    "\n",
    "# Specify the path to the folder you want to delete\n",
    "folder_path = '/content/results'\n",
    "\n",
    "# Check if the folder exists\n",
    "if os.path.exists(folder_path):\n",
    "    # Delete the folder and all its contents\n",
    "    shutil.rmtree(folder_path)\n",
    "    print(f\"Folder '{folder_path}' has been deleted.\")\n",
    "else:\n",
    "    print(f\"Folder '{folder_path}' does not exist.\")"
   ]
  },
  {
   "cell_type": "code",
   "execution_count": null,
   "metadata": {},
   "outputs": [],
   "source": [
    "import tensorflow as tf\n",
    "import matplotlib.pyplot as plt\n",
    "\n",
    "# Path to your TensorFlow event file\n",
    "file_path = \"/content/logs/events.out.tfevents.1724420738.451d604ea9e8.827.0\"\n",
    "\n",
    "# Initialize lists for storing extracted data\n",
    "training_loss = []\n",
    "eval_loss = []\n",
    "steps = []\n",
    "eval_steps = []\n",
    "\n",
    "# Using TFRecordDataset to read the event file\n",
    "dataset = tf.data.TFRecordDataset(file_path)\n",
    "\n",
    "# Function to parse the event\n",
    "def parse_event(event):\n",
    "    for value in event.summary.value:\n",
    "        if value.tag == 'train/loss':  # Use 'train/loss' as the tag for training loss\n",
    "            training_loss.append(value.simple_value)\n",
    "            steps.append(event.step)\n",
    "        elif value.tag == 'eval/loss':  # Use 'eval/loss' as the tag for evaluation loss\n",
    "            eval_loss.append(value.simple_value)\n",
    "            eval_steps.append(event.step)  # Make sure to capture the step for evaluation loss\n",
    "\n",
    "# Iterate over the dataset to extract data\n",
    "for raw_record in dataset:\n",
    "    event = tf.compat.v1.Event.FromString(raw_record.numpy())\n",
    "    parse_event(event)\n",
    "\n",
    "# Print extracted values for debugging\n",
    "print(f'Training loss: {training_loss}')\n",
    "print(f'Steps: {steps}')\n",
    "print(f'Evaluation loss: {eval_loss}')\n",
    "print(f'Evaluation steps: {eval_steps}')\n",
    "\n",
    "# Plot the Training Loss\n",
    "plt.figure(figsize=(10, 6))\n",
    "plt.plot(steps, training_loss, label=\"Training Loss\")\n",
    "\n",
    "# Plot the Evaluation Loss\n",
    "plt.plot(eval_steps, eval_loss, label=\"Evaluation Loss\", linestyle='--', marker='o')\n",
    "\n",
    "plt.xlabel(\"Steps\")\n",
    "plt.ylabel(\"Loss\")\n",
    "plt.title(\"Training and Evaluation Loss Over Time\")\n",
    "plt.legend()\n",
    "plt.grid()\n",
    "plt.show()"
   ]
  },
  {
   "cell_type": "code",
   "execution_count": null,
   "metadata": {},
   "outputs": [],
   "source": [
    "# Initialize a set to store all tags for debugging\n",
    "all_tags = set()\n",
    "\n",
    "# Using TFRecordDataset to read the event file\n",
    "dataset = tf.data.TFRecordDataset(file_path)\n",
    "\n",
    "# Iterate over the dataset to extract all tags\n",
    "for raw_record in dataset:\n",
    "    event = tf.compat.v1.Event.FromString(raw_record.numpy())\n",
    "    for value in event.summary.value:\n",
    "        all_tags.add(value.tag)\n",
    "\n",
    "# Print all available tags\n",
    "print(f'Available tags in the event file: {all_tags}')"
   ]
  }
 ],
 "metadata": {
  "kernelspec": {
   "display_name": "pytorch_env",
   "language": "python",
   "name": "python3"
  },
  "language_info": {
   "codemirror_mode": {
    "name": "ipython",
    "version": 3
   },
   "file_extension": ".py",
   "mimetype": "text/x-python",
   "name": "python",
   "nbconvert_exporter": "python",
   "pygments_lexer": "ipython3",
   "version": "3.10.14"
  }
 },
 "nbformat": 4,
 "nbformat_minor": 2
}
